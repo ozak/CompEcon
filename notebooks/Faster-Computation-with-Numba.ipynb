{
 "cells": [
  {
   "cell_type": "markdown",
   "metadata": {
    "slideshow": {
     "slide_type": "slide"
    }
   },
   "source": [
    "# Faster Computations with Numba"
   ]
  },
  {
   "cell_type": "markdown",
   "metadata": {
    "slideshow": {
     "slide_type": "subslide"
    }
   },
   "source": [
    "## Some notes mostly for myself, but could be useful to you"
   ]
  },
  {
   "cell_type": "markdown",
   "metadata": {
    "slideshow": {
     "slide_type": "fragment"
    }
   },
   "source": [
    "Altough Python is fast compared to other high-level languages, it still is not as fast as C, C++ or Fortran. Luckily, two open source projects [Numba](http://numba.pydata.org/) and [Cython](http://cython.org/) can be used to speed-up computations. [Numba](http://numba.pydata.org/) is sponsored by the producer of [Anaconda](https://store.continuum.io/cshop/anaconda/), [Continuum Analytics](http://continuum.io/). Both projects allow you to convert your code to interpreted language so that it runs faster. Here I will use Numba, given its ease and Just-In-Time nature, although I still have to figure out how to save and use the compiled functions (newer versions of [Numba](http://numba.pydata.org/) seem to have introduced [Ahead-of-Time](https://numba.pydata.org/numba-doc/dev/user/pycc.html) compilation using pycc and static libraries it seems.). Cython on the other hand needs you to understand much more of C and Ctypes. But once you figure out a way to run your code and compile it, you have a library ready to use and import. See the code for the repository for my paper [Optimal consumption under uncertainty, liquidity constraints, and bounded rationality](http://ozak.github.io/BoundedConsumption/) where I used Cython for the dynsysf.pyx function."
   ]
  },
  {
   "cell_type": "markdown",
   "metadata": {
    "slideshow": {
     "slide_type": "slide"
    }
   },
   "source": [
    "# Numba"
   ]
  },
  {
   "cell_type": "markdown",
   "metadata": {
    "slideshow": {
     "slide_type": "fragment"
    }
   },
   "source": [
    "Numba is quite easy to use. Start by importing it\n",
    "\n",
    "    import numba as nb\n",
    "\n",
    "or some of its functions\n",
    "\n",
    "    from numba import jit, autojit, njit\n",
    "    \n",
    "Then define your function and notate it using the Numba commands jit, njit, autojit or their decorators @jit, @njit."
   ]
  },
  {
   "cell_type": "code",
   "execution_count": 1,
   "metadata": {
    "slideshow": {
     "slide_type": "fragment"
    }
   },
   "outputs": [],
   "source": [
    "from numba import jit, njit, autojit, jitclass\n",
    "import numba as nb\n",
    "import math\n",
    "import warnings\n",
    "\n",
    "with warnings.catch_warnings():\n",
    "    warnings.simplefilter('ignore', nb.errors.NumbaDeprecationWarning)"
   ]
  },
  {
   "cell_type": "markdown",
   "metadata": {
    "slideshow": {
     "slide_type": "subslide"
    }
   },
   "source": [
    "## Examples:"
   ]
  },
  {
   "cell_type": "code",
   "execution_count": 2,
   "metadata": {
    "slideshow": {
     "slide_type": "fragment"
    }
   },
   "outputs": [
    {
     "name": "stdout",
     "output_type": "stream",
     "text": [
      "2.37 µs ± 231 ns per loop (mean ± std. dev. of 7 runs, 100000 loops each)\n",
      "6.19 µs ± 304 ns per loop (mean ± std. dev. of 7 runs, 100000 loops each)\n"
     ]
    }
   ],
   "source": [
    "# A simple function that computes the maximum distance between two vectors\n",
    "@nb.jit('f8(f8[:],f8[:])')\n",
    "def errnb(V0,V1):\n",
    "    maxi=0.0\n",
    "    for i in range(V0.shape[0]):\n",
    "        m = abs(V1[i]-V0[i])\n",
    "        if m>=maxi:\n",
    "            maxi = m\n",
    "    return maxi\n",
    "\n",
    "x = np.random.random((1000))\n",
    "y = np.random.random((1000))\n",
    "\n",
    "%timeit errnb(x,y)\n",
    "%timeit np.max(np.abs(x-y))"
   ]
  },
  {
   "cell_type": "code",
   "execution_count": 3,
   "metadata": {
    "slideshow": {
     "slide_type": "subslide"
    }
   },
   "outputs": [
    {
     "data": {
      "text/plain": [
       "2.0"
      ]
     },
     "execution_count": 3,
     "metadata": {},
     "output_type": "execute_result"
    }
   ],
   "source": [
    "# Let's use Numba to compute a Cobb-Douglas function\n",
    "@jit\n",
    "def CobbDouglas(K, L, A, alpha, beta):\n",
    "    return A * K**alpha * L**beta\n",
    "\n",
    "K, L, A, alpha, beta = 2, 2, 1, .3, .7\n",
    "\n",
    "CobbDouglas(K,L,A,alpha,beta)"
   ]
  },
  {
   "cell_type": "markdown",
   "metadata": {
    "slideshow": {
     "slide_type": "subslide"
    }
   },
   "source": [
    "Let's time it and compare with Numpy or simple Python"
   ]
  },
  {
   "cell_type": "code",
   "execution_count": 4,
   "metadata": {
    "slideshow": {
     "slide_type": "fragment"
    }
   },
   "outputs": [
    {
     "name": "stdout",
     "output_type": "stream",
     "text": [
      "147 ns ± 2.49 ns per loop (mean ± std. dev. of 7 runs, 10000000 loops each)\n"
     ]
    }
   ],
   "source": [
    "%timeit A * K**alpha * L**beta"
   ]
  },
  {
   "cell_type": "code",
   "execution_count": 5,
   "metadata": {
    "slideshow": {
     "slide_type": "fragment"
    }
   },
   "outputs": [
    {
     "name": "stdout",
     "output_type": "stream",
     "text": [
      "225 ns ± 12.3 ns per loop (mean ± std. dev. of 7 runs, 1000000 loops each)\n"
     ]
    }
   ],
   "source": [
    "%timeit CobbDouglas(K,L,A,alpha,beta)"
   ]
  },
  {
   "cell_type": "markdown",
   "metadata": {
    "slideshow": {
     "slide_type": "subslide"
    }
   },
   "source": [
    "Well not fast enough...why?"
   ]
  },
  {
   "cell_type": "code",
   "execution_count": 6,
   "metadata": {
    "slideshow": {
     "slide_type": "fragment"
    }
   },
   "outputs": [
    {
     "name": "stdout",
     "output_type": "stream",
     "text": [
      "CobbDouglas (int64, int64, int64, float64, float64)\n",
      "--------------------------------------------------------------------------------\n",
      "# File: <ipython-input-3-3e653c7a0b0c>\n",
      "# --- LINE 2 --- \n",
      "# label 0\n",
      "\n",
      "@jit\n",
      "\n",
      "# --- LINE 3 --- \n",
      "\n",
      "def CobbDouglas(K, L, A, alpha, beta):\n",
      "\n",
      "    # --- LINE 4 --- \n",
      "    #   K = arg(0, name=K)  :: int64\n",
      "    #   L = arg(1, name=L)  :: int64\n",
      "    #   A = arg(2, name=A)  :: int64\n",
      "    #   alpha = arg(3, name=alpha)  :: float64\n",
      "    #   beta = arg(4, name=beta)  :: float64\n",
      "    #   $0.4 = K ** alpha  :: float64\n",
      "    #   del alpha\n",
      "    #   del K\n",
      "    #   $0.5 = A * $0.4  :: float64\n",
      "    #   del A\n",
      "    #   del $0.4\n",
      "    #   $0.8 = L ** beta  :: float64\n",
      "    #   del beta\n",
      "    #   del L\n",
      "    #   $0.9 = $0.5 * $0.8  :: float64\n",
      "    #   del $0.8\n",
      "    #   del $0.5\n",
      "    #   $0.10 = cast(value=$0.9)  :: float64\n",
      "    #   del $0.9\n",
      "    #   return $0.10\n",
      "\n",
      "    return A * K**alpha * L**beta\n",
      "\n",
      "\n",
      "================================================================================\n"
     ]
    }
   ],
   "source": [
    "CobbDouglas.inspect_types()"
   ]
  },
  {
   "cell_type": "markdown",
   "metadata": {
    "slideshow": {
     "slide_type": "subslide"
    }
   },
   "source": [
    "OK...it is correctly compiled and it is using Numba types and not PyObjects. So perhaps we cannot gain much in this simple computation...but that is ok. Let's try something a little more complex, computing a CobbDouglas for vectors K and L"
   ]
  },
  {
   "cell_type": "code",
   "execution_count": 7,
   "metadata": {
    "slideshow": {
     "slide_type": "fragment"
    }
   },
   "outputs": [],
   "source": [
    "# Python function\n",
    "def CobbDouglas(K, L, A, alpha, beta):\n",
    "    return A * K**alpha * L**beta\n",
    "\n",
    "CobbDouglas_nb = jit(CobbDouglas)\n",
    "CobbDouglas_nb2 = njit(CobbDouglas)"
   ]
  },
  {
   "cell_type": "code",
   "execution_count": 8,
   "metadata": {
    "slideshow": {
     "slide_type": "fragment"
    }
   },
   "outputs": [],
   "source": [
    "K = np.random.random((100,1))\n",
    "L = np.random.random((100,1))"
   ]
  },
  {
   "cell_type": "code",
   "execution_count": 9,
   "metadata": {
    "slideshow": {
     "slide_type": "fragment"
    }
   },
   "outputs": [
    {
     "name": "stdout",
     "output_type": "stream",
     "text": [
      "7.52 µs ± 575 ns per loop (mean ± std. dev. of 7 runs, 100000 loops each)\n"
     ]
    }
   ],
   "source": [
    "%timeit CobbDouglas(K,L,A,alpha,beta)"
   ]
  },
  {
   "cell_type": "code",
   "execution_count": 10,
   "metadata": {
    "slideshow": {
     "slide_type": "fragment"
    }
   },
   "outputs": [
    {
     "name": "stdout",
     "output_type": "stream",
     "text": [
      "4.7 µs ± 59.8 ns per loop (mean ± std. dev. of 7 runs, 100000 loops each)\n"
     ]
    }
   ],
   "source": [
    "%timeit CobbDouglas_nb(K,L,A,alpha,beta)"
   ]
  },
  {
   "cell_type": "code",
   "execution_count": 11,
   "metadata": {
    "slideshow": {
     "slide_type": "fragment"
    }
   },
   "outputs": [
    {
     "name": "stdout",
     "output_type": "stream",
     "text": [
      "5.94 µs ± 621 ns per loop (mean ± std. dev. of 7 runs, 100000 loops each)\n"
     ]
    }
   ],
   "source": [
    "%timeit CobbDouglas_nb2(K,L,A,alpha,beta)"
   ]
  },
  {
   "cell_type": "markdown",
   "metadata": {
    "slideshow": {
     "slide_type": "subslide"
    }
   },
   "source": [
    "Ooops what went wrong? Up to V.0.12.2 Numba could not create arrays in ``njit`` mode, i.e. without using Python Objects. But things seem to have improved a lot since then. But even for the old days, we do not need to despair, we can create a fast CobbDouglas function by iterating over our vectors. Here I first create the `CobbDouglasNB` function which takes floating point numbers and tells Numba not to use PyObjects, and then I create the vectorized version `CobbDouglasVecNB`, which iterates over the elements of K and L (here we assume both are vectors) and returns our output Y. I know it is strange that we have to give the output as part of the function, but it allows us to speed up the computations."
   ]
  },
  {
   "cell_type": "code",
   "execution_count": 12,
   "metadata": {
    "slideshow": {
     "slide_type": "fragment"
    }
   },
   "outputs": [],
   "source": [
    "@nb.njit('f8(f8, f8, f8, f8, f8)')\n",
    "def CobbDouglasNB(K, L, A, alpha, beta):\n",
    "    return A * K**alpha * L**beta\n",
    "\n",
    "@nb.jit('f8[:](f8[:], f8[:], f8[:], f8, f8, f8)')\n",
    "def CobbDouglasVecNB(Y, K, L, A, alpha, beta):\n",
    "    for i in range(K.shape[0]):\n",
    "        Y[i]=CobbDouglasNB(K[i],L[i],A,alpha,beta)\n",
    "    return Y"
   ]
  },
  {
   "cell_type": "code",
   "execution_count": 13,
   "metadata": {
    "slideshow": {
     "slide_type": "fragment"
    }
   },
   "outputs": [
    {
     "data": {
      "text/plain": [
       "0.48966064683582006"
      ]
     },
     "execution_count": 13,
     "metadata": {},
     "output_type": "execute_result"
    }
   ],
   "source": [
    "K.mean()"
   ]
  },
  {
   "cell_type": "code",
   "execution_count": 14,
   "metadata": {
    "slideshow": {
     "slide_type": "subslide"
    }
   },
   "outputs": [
    {
     "name": "stdout",
     "output_type": "stream",
     "text": [
      "9.17 µs ± 1.26 µs per loop (mean ± std. dev. of 7 runs, 100000 loops each)\n"
     ]
    }
   ],
   "source": [
    "%timeit CobbDouglas(K[:,0],L[:,0],A,alpha,beta)"
   ]
  },
  {
   "cell_type": "code",
   "execution_count": 15,
   "metadata": {
    "slideshow": {
     "slide_type": "fragment"
    }
   },
   "outputs": [
    {
     "name": "stdout",
     "output_type": "stream",
     "text": [
      "6.46 µs ± 157 ns per loop (mean ± std. dev. of 7 runs, 100000 loops each)\n"
     ]
    }
   ],
   "source": [
    "Y=np.zeros_like(K)\n",
    "%timeit CobbDouglasVecNB(Y[:,0],K[:,0],L[:,0],A,alpha,beta)"
   ]
  },
  {
   "cell_type": "markdown",
   "metadata": {
    "slideshow": {
     "slide_type": "fragment"
    }
   },
   "source": [
    "## Almost twice as fast as Numpy!"
   ]
  },
  {
   "cell_type": "markdown",
   "metadata": {
    "slideshow": {
     "slide_type": "subslide"
    }
   },
   "source": [
    "Let's generalize the function to arrays of 2 dimensions"
   ]
  },
  {
   "cell_type": "code",
   "execution_count": 16,
   "metadata": {
    "slideshow": {
     "slide_type": "fragment"
    }
   },
   "outputs": [],
   "source": [
    "@nb.jit('f8[:,:](f8[:,:], f8[:,:], f8[:,:], f8, f8, f8)')\n",
    "def CobbDouglasVecNB(Y, K, L, A, alpha, beta):\n",
    "    for i in range(K.shape[0]):\n",
    "        for j in range(K.shape[1]):\n",
    "            Y[i,j]=CobbDouglasNB(K[i,j], L[i,j], A, alpha, beta)\n",
    "    return Y"
   ]
  },
  {
   "cell_type": "code",
   "execution_count": 17,
   "metadata": {
    "slideshow": {
     "slide_type": "fragment"
    }
   },
   "outputs": [
    {
     "name": "stdout",
     "output_type": "stream",
     "text": [
      "48.9 ms ± 3.69 ms per loop (mean ± std. dev. of 7 runs, 10 loops each)\n"
     ]
    }
   ],
   "source": [
    "K=np.random.random((1000,1000))\n",
    "L=np.random.random((1000,1000))\n",
    "%timeit CobbDouglas(K,L,A,alpha,beta)"
   ]
  },
  {
   "cell_type": "code",
   "execution_count": 18,
   "metadata": {
    "slideshow": {
     "slide_type": "fragment"
    }
   },
   "outputs": [
    {
     "name": "stdout",
     "output_type": "stream",
     "text": [
      "44 ms ± 573 µs per loop (mean ± std. dev. of 7 runs, 10 loops each)\n"
     ]
    }
   ],
   "source": [
    "Y=np.zeros_like(K)\n",
    "%timeit CobbDouglasVecNB(Y,K,L,A,alpha,beta)"
   ]
  },
  {
   "cell_type": "markdown",
   "metadata": {
    "slideshow": {
     "slide_type": "fragment"
    }
   },
   "source": [
    "### 20% faster than Numpy...so we get the idea."
   ]
  },
  {
   "cell_type": "markdown",
   "metadata": {
    "slideshow": {
     "slide_type": "subslide"
    }
   },
   "source": [
    "While this is great to speed up, we see that there are some issues one has to think about in order to get those gains.\n",
    "\n",
    "Now let's use the vectorize option, which creates Numpy Ufunctions, that is functions that operate on vectors (or at leats that s what I gather)."
   ]
  },
  {
   "cell_type": "code",
   "execution_count": 19,
   "metadata": {
    "slideshow": {
     "slide_type": "fragment"
    }
   },
   "outputs": [],
   "source": [
    "@nb.vectorize('f8(f8, f8, f8, f8, f8,)')\n",
    "def CobbDouglasNB2(K, L, A, alpha, beta):\n",
    "    return A * K**alpha * L**beta"
   ]
  },
  {
   "cell_type": "code",
   "execution_count": 20,
   "metadata": {
    "slideshow": {
     "slide_type": "fragment"
    }
   },
   "outputs": [
    {
     "name": "stdout",
     "output_type": "stream",
     "text": [
      "45.4 ms ± 741 µs per loop (mean ± std. dev. of 7 runs, 10 loops each)\n"
     ]
    }
   ],
   "source": [
    "%timeit CobbDouglasNB2(K,L,A,alpha,beta)"
   ]
  },
  {
   "cell_type": "markdown",
   "metadata": {
    "slideshow": {
     "slide_type": "subslide"
    }
   },
   "source": [
    "Let's compare these functions on different sizes of matrices $K$ and $L$"
   ]
  },
  {
   "cell_type": "code",
   "execution_count": 21,
   "metadata": {
    "slideshow": {
     "slide_type": "fragment"
    }
   },
   "outputs": [],
   "source": [
    "K = np.random.random((10000, 10000))\n",
    "L = np.random.random((10000, 10000))\n",
    "Y = np.zeros_like(K)"
   ]
  },
  {
   "cell_type": "code",
   "execution_count": 22,
   "metadata": {
    "slideshow": {
     "slide_type": "subslide"
    }
   },
   "outputs": [
    {
     "name": "stdout",
     "output_type": "stream",
     "text": [
      "478 µs ± 18.7 µs per loop (mean ± std. dev. of 7 runs, 1000 loops each)\n"
     ]
    }
   ],
   "source": [
    "%timeit CobbDouglas(K[1:100,1:100],L[1:100,1:100],A,alpha,beta)"
   ]
  },
  {
   "cell_type": "code",
   "execution_count": 23,
   "metadata": {
    "slideshow": {
     "slide_type": "fragment"
    }
   },
   "outputs": [
    {
     "name": "stdout",
     "output_type": "stream",
     "text": [
      "450 µs ± 9.08 µs per loop (mean ± std. dev. of 7 runs, 1000 loops each)\n"
     ]
    }
   ],
   "source": [
    "%timeit CobbDouglasVecNB(Y[1:100,1:100],K[1:100,1:100],L[1:100,1:100],A,alpha,beta)"
   ]
  },
  {
   "cell_type": "code",
   "execution_count": 24,
   "metadata": {
    "slideshow": {
     "slide_type": "fragment"
    }
   },
   "outputs": [
    {
     "name": "stdout",
     "output_type": "stream",
     "text": [
      "428 µs ± 40.6 µs per loop (mean ± std. dev. of 7 runs, 1000 loops each)\n"
     ]
    }
   ],
   "source": [
    "%timeit CobbDouglasNB2(K[1:100,1:100],L[1:100,1:100],A,alpha,beta)"
   ]
  },
  {
   "cell_type": "code",
   "execution_count": 25,
   "metadata": {
    "slideshow": {
     "slide_type": "subslide"
    }
   },
   "outputs": [
    {
     "name": "stdout",
     "output_type": "stream",
     "text": [
      "40.4 ms ± 2.11 ms per loop (mean ± std. dev. of 7 runs, 10 loops each)\n"
     ]
    }
   ],
   "source": [
    "%timeit CobbDouglas(K[1:1000,1:1000],L[1:1000,1:1000],A,alpha,beta)"
   ]
  },
  {
   "cell_type": "code",
   "execution_count": 26,
   "metadata": {
    "slideshow": {
     "slide_type": "fragment"
    }
   },
   "outputs": [
    {
     "name": "stdout",
     "output_type": "stream",
     "text": [
      "37.1 ms ± 2.33 ms per loop (mean ± std. dev. of 7 runs, 10 loops each)\n"
     ]
    }
   ],
   "source": [
    "%timeit CobbDouglasVecNB(Y[1:1000,1:1000],K[1:1000,1:1000],L[1:1000,1:1000],A,alpha,beta)"
   ]
  },
  {
   "cell_type": "code",
   "execution_count": 27,
   "metadata": {
    "slideshow": {
     "slide_type": "fragment"
    }
   },
   "outputs": [
    {
     "name": "stdout",
     "output_type": "stream",
     "text": [
      "39 ms ± 2.81 ms per loop (mean ± std. dev. of 7 runs, 10 loops each)\n"
     ]
    }
   ],
   "source": [
    "%timeit CobbDouglasNB2(K[1:1000,1:1000],L[1:1000,1:1000],A,alpha,beta)"
   ]
  },
  {
   "cell_type": "markdown",
   "metadata": {
    "slideshow": {
     "slide_type": "subslide"
    }
   },
   "source": [
    "Now let's try the CRRA utility function"
   ]
  },
  {
   "cell_type": "code",
   "execution_count": 28,
   "metadata": {
    "slideshow": {
     "slide_type": "fragment"
    }
   },
   "outputs": [],
   "source": [
    "@nb.jit('f8(f8, f8)')\n",
    "def U_numba(c, sigma):\n",
    "    '''This function returns the value of utility when the CRRA\n",
    "    coefficient is sigma. I.e. \n",
    "    u(c,sigma)=(c**(1-sigma)-1)/(1-sigma) if sigma!=1 \n",
    "    and \n",
    "    u(c,sigma)=ln(c) if sigma==1\n",
    "    Usage: u(c,sigma)\n",
    "    '''\n",
    "    if sigma!=1:\n",
    "        u = (c**(1-sigma)-1)/(1-sigma)\n",
    "    else:\n",
    "        u = math.log(c)\n",
    "    return u"
   ]
  },
  {
   "cell_type": "code",
   "execution_count": 29,
   "metadata": {
    "slideshow": {
     "slide_type": "subslide"
    }
   },
   "outputs": [],
   "source": [
    "@nb.jit('f8[:](f8[:], f8[:], f8)')\n",
    "def Uvec(u,c,sigma):\n",
    "    if sigma!=1:\n",
    "        for i in range(c.shape[0]):\n",
    "            u[i] = U_numba(c[i], sigma)\n",
    "    else:\n",
    "        u = np.log(c)\n",
    "    return u"
   ]
  },
  {
   "cell_type": "code",
   "execution_count": 30,
   "metadata": {
    "slideshow": {
     "slide_type": "subslide"
    }
   },
   "outputs": [],
   "source": [
    "def Unp(c,sigma):\n",
    "    if sigma!=1:\n",
    "        u=(c**(1-sigma)-1)/(1-sigma)\n",
    "    else:\n",
    "        u=np.log(c)\n",
    "    return u"
   ]
  },
  {
   "cell_type": "code",
   "execution_count": 31,
   "metadata": {
    "slideshow": {
     "slide_type": "subslide"
    }
   },
   "outputs": [],
   "source": [
    "@nb.vectorize('f8(f8,f8)')\n",
    "def Unb(c,sigma):\n",
    "    if sigma!=1:\n",
    "        u = (c**(1-sigma)-1)/(1-sigma)\n",
    "    else:\n",
    "        u = math.log(c)\n",
    "    return u"
   ]
  },
  {
   "cell_type": "code",
   "execution_count": 32,
   "metadata": {
    "slideshow": {
     "slide_type": "subslide"
    }
   },
   "outputs": [],
   "source": [
    "@nb.jit('f8[:](f8[:], f8)')\n",
    "def U(c, sigma):\n",
    "    if sigma!=1:\n",
    "        u = Unb(c,sigma)#(c**(1-sigma)-1)/(1-sigma)\n",
    "    else:\n",
    "        u = np.log(c)\n",
    "    return u"
   ]
  },
  {
   "cell_type": "code",
   "execution_count": 33,
   "metadata": {
    "slideshow": {
     "slide_type": "subslide"
    }
   },
   "outputs": [],
   "source": [
    "# Grid of values for state variable over which function will be approximated\n",
    "gridmin, gridmax, gridsize = 0.1, 5, 300\n",
    "grid = np.linspace(gridmin, gridmax**1e-1, gridsize)**10"
   ]
  },
  {
   "cell_type": "code",
   "execution_count": 34,
   "metadata": {
    "slideshow": {
     "slide_type": "subslide"
    }
   },
   "outputs": [
    {
     "name": "stdout",
     "output_type": "stream",
     "text": [
      "2.49 µs ± 113 ns per loop (mean ± std. dev. of 7 runs, 100000 loops each)\n"
     ]
    }
   ],
   "source": [
    "%timeit U(grid,1)"
   ]
  },
  {
   "cell_type": "code",
   "execution_count": 35,
   "metadata": {
    "slideshow": {
     "slide_type": "fragment"
    }
   },
   "outputs": [
    {
     "name": "stdout",
     "output_type": "stream",
     "text": [
      "2.45 µs ± 63.4 ns per loop (mean ± std. dev. of 7 runs, 100000 loops each)\n"
     ]
    }
   ],
   "source": [
    "%timeit Unp(grid,1)"
   ]
  },
  {
   "cell_type": "code",
   "execution_count": 36,
   "metadata": {
    "slideshow": {
     "slide_type": "fragment"
    }
   },
   "outputs": [
    {
     "name": "stdout",
     "output_type": "stream",
     "text": [
      "2.71 µs ± 152 ns per loop (mean ± std. dev. of 7 runs, 100000 loops each)\n"
     ]
    }
   ],
   "source": [
    "%timeit Unb(grid,1)"
   ]
  },
  {
   "cell_type": "code",
   "execution_count": 37,
   "metadata": {
    "slideshow": {
     "slide_type": "fragment"
    }
   },
   "outputs": [
    {
     "name": "stdout",
     "output_type": "stream",
     "text": [
      "2.42 µs ± 181 ns per loop (mean ± std. dev. of 7 runs, 100000 loops each)\n"
     ]
    }
   ],
   "source": [
    "u = np.zeros_like(grid)\n",
    "%timeit Uvec(u, grid, 1)"
   ]
  },
  {
   "cell_type": "code",
   "execution_count": 38,
   "metadata": {
    "slideshow": {
     "slide_type": "subslide"
    }
   },
   "outputs": [
    {
     "name": "stdout",
     "output_type": "stream",
     "text": [
      "5.93 µs ± 327 ns per loop (mean ± std. dev. of 7 runs, 100000 loops each)\n"
     ]
    }
   ],
   "source": [
    "%timeit U(grid,3)"
   ]
  },
  {
   "cell_type": "code",
   "execution_count": 39,
   "metadata": {
    "slideshow": {
     "slide_type": "fragment"
    }
   },
   "outputs": [
    {
     "name": "stdout",
     "output_type": "stream",
     "text": [
      "6.33 µs ± 58.4 ns per loop (mean ± std. dev. of 7 runs, 100000 loops each)\n"
     ]
    }
   ],
   "source": [
    "%timeit Unb(grid,3)"
   ]
  },
  {
   "cell_type": "code",
   "execution_count": 40,
   "metadata": {
    "slideshow": {
     "slide_type": "fragment"
    }
   },
   "outputs": [
    {
     "name": "stdout",
     "output_type": "stream",
     "text": [
      "8.68 µs ± 43.4 ns per loop (mean ± std. dev. of 7 runs, 100000 loops each)\n"
     ]
    }
   ],
   "source": [
    "%timeit Unp(grid,3)"
   ]
  },
  {
   "cell_type": "code",
   "execution_count": 41,
   "metadata": {
    "slideshow": {
     "slide_type": "fragment"
    }
   },
   "outputs": [
    {
     "name": "stdout",
     "output_type": "stream",
     "text": [
      "5.73 µs ± 162 ns per loop (mean ± std. dev. of 7 runs, 100000 loops each)\n"
     ]
    }
   ],
   "source": [
    "u = np.zeros_like(grid)\n",
    "%timeit Uvec(u,grid,3)"
   ]
  },
  {
   "cell_type": "markdown",
   "metadata": {
    "slideshow": {
     "slide_type": "subslide"
    }
   },
   "source": [
    "# Optimizing the code for Dynamic Programming"
   ]
  },
  {
   "cell_type": "markdown",
   "metadata": {
    "slideshow": {
     "slide_type": "subslide"
    }
   },
   "source": [
    "## Optimal Growth"
   ]
  },
  {
   "cell_type": "code",
   "execution_count": 42,
   "metadata": {
    "slideshow": {
     "slide_type": "fragment"
    }
   },
   "outputs": [],
   "source": [
    "# Parameters Optimal Growth\n",
    "alpha = .3\n",
    "beta = .9\n",
    "sigma = 1\n",
    "delta = 1\n",
    "A = 1"
   ]
  },
  {
   "cell_type": "code",
   "execution_count": 43,
   "metadata": {
    "slideshow": {
     "slide_type": "subslide"
    }
   },
   "outputs": [
    {
     "name": "stdout",
     "output_type": "stream",
     "text": [
      "tol=0.000001\n",
      "(300,)\n"
     ]
    }
   ],
   "source": [
    "# Grid of values for state variable over which function will be approximated\n",
    "gridmin, gridmax, gridsize = 0.1, 5, 300\n",
    "grid = np.linspace(gridmin, gridmax**1e-1, gridsize)**10\n",
    "\n",
    "# Parameters for the optimization procedures\n",
    "count=0\n",
    "maxiter=1000\n",
    "tol=1e-6\n",
    "print('tol=%f' % tol)\n",
    "print(grid.shape)"
   ]
  },
  {
   "cell_type": "code",
   "execution_count": 44,
   "metadata": {
    "slideshow": {
     "slide_type": "subslide"
    }
   },
   "outputs": [],
   "source": [
    "import numba as nb\n",
    "from scipy.optimize import fminbound\n",
    "from scipy import interp\n",
    "\n",
    "# Auxiliary functions \n",
    "# Maximize function V on interval [a,b]\n",
    "def maximum(V, a, b, args=[]):\n",
    "    return float(V(fminbound(lambda x: -V(x), a, b,args=args)))\n",
    "\n",
    "# Return Maximizer of function V on interval [a,b]\n",
    "def maximizer(V, a, b, args=[]):\n",
    "    return float(fminbound(lambda x: -V(x), a, b, args=args))\n",
    "\n",
    "# Interpolation functions Class\n",
    "class LinInterp:\n",
    "    \"Provides linear interpolation in one dimension.\"\n",
    "\n",
    "    def __init__(self, X, Y):\n",
    "        \"\"\"Parameters: X and Y are sequences or arrays\n",
    "        containing the (x,y) interpolation points.\n",
    "        \"\"\"\n",
    "        self.X, self.Y = X, Y\n",
    "\n",
    "    def __call__(self, z):\n",
    "        \"\"\"Parameters: z is a number, sequence or array.\n",
    "        This method makes an instance f of LinInterp callable,\n",
    "        so f(z) returns the interpolation value(s) at z.\n",
    "        \"\"\"\n",
    "        if isinstance(z, int) or isinstance(z, float):\n",
    "            return interp ([z], self.X, self.Y)[0]\n",
    "        else:\n",
    "            return interp(z, self.X, self.Y)"
   ]
  },
  {
   "cell_type": "code",
   "execution_count": 45,
   "metadata": {
    "slideshow": {
     "slide_type": "subslide"
    }
   },
   "outputs": [],
   "source": [
    "@nb.jit('f8[:](f8[:], f8)')\n",
    "def U(c,sigma):\n",
    "    if sigma!=1:\n",
    "        u = Unb(c,sigma)\n",
    "    else:\n",
    "        u = np.log(c)\n",
    "    return u\n",
    "\n",
    "@nb.vectorize('f8(f8,f8)')\n",
    "def Unb(c,sigma):\n",
    "    if sigma!=1:\n",
    "        u = (c**(1-sigma)-1)/(1-sigma)\n",
    "    else:\n",
    "        u = math.log(c)\n",
    "    return u"
   ]
  },
  {
   "cell_type": "code",
   "execution_count": 46,
   "metadata": {
    "slideshow": {
     "slide_type": "subslide"
    }
   },
   "outputs": [],
   "source": [
    "@nb.vectorize('f8(f8, f8, f8, f8, f8,)')\n",
    "def CobbDouglasNB2(K, L, A, alpha, beta):\n",
    "    '''CobbDouglasNB2(K, L, A, alpha, beta)'''\n",
    "    return A * K**alpha * L**beta\n",
    "\n",
    "@nb.vectorize('f8(f8, f8, f8)')\n",
    "def F_nb(K, alpha, A):\n",
    "    '''\n",
    "    Cobb-Douglas production function\n",
    "    F(K)=A* K^alpha\n",
    "    '''\n",
    "    return A * K**alpha\n",
    "\n",
    "def F_np(K, alpha, A):\n",
    "    '''\n",
    "    Cobb-Douglas production function\n",
    "    F(K)=A* K^alpha\n",
    "    '''\n",
    "    return A * K**alpha"
   ]
  },
  {
   "cell_type": "code",
   "execution_count": 47,
   "metadata": {
    "slideshow": {
     "slide_type": "subslide"
    }
   },
   "outputs": [
    {
     "name": "stdout",
     "output_type": "stream",
     "text": [
      "9.68 µs ± 382 ns per loop (mean ± std. dev. of 7 runs, 100000 loops each)\n"
     ]
    }
   ],
   "source": [
    "%timeit CobbDouglasNB2(grid,1,A,alpha,0)"
   ]
  },
  {
   "cell_type": "code",
   "execution_count": 48,
   "metadata": {
    "slideshow": {
     "slide_type": "fragment"
    }
   },
   "outputs": [
    {
     "name": "stdout",
     "output_type": "stream",
     "text": [
      "7.28 µs ± 357 ns per loop (mean ± std. dev. of 7 runs, 100000 loops each)\n"
     ]
    }
   ],
   "source": [
    "%timeit F_nb(grid,alpha,A)"
   ]
  },
  {
   "cell_type": "code",
   "execution_count": 49,
   "metadata": {
    "slideshow": {
     "slide_type": "fragment"
    }
   },
   "outputs": [
    {
     "name": "stdout",
     "output_type": "stream",
     "text": [
      "7.6 µs ± 538 ns per loop (mean ± std. dev. of 7 runs, 100000 loops each)\n"
     ]
    }
   ],
   "source": [
    "%timeit F_np(grid,alpha,A)"
   ]
  },
  {
   "cell_type": "code",
   "execution_count": 50,
   "metadata": {
    "slideshow": {
     "slide_type": "subslide"
    }
   },
   "outputs": [],
   "source": [
    "V0 = LinInterp(grid,U(grid,sigma))"
   ]
  },
  {
   "cell_type": "code",
   "execution_count": 51,
   "metadata": {
    "slideshow": {
     "slide_type": "subslide"
    }
   },
   "outputs": [],
   "source": [
    "def bellman(x,w):\n",
    "    \"\"\"The approximate Bellman operator.\n",
    "    Parameters: w is a LinInterp object (i.e., a \n",
    "    callable object which acts pointwise on arrays).\n",
    "    Returns: An instance of LinInterp that represents the optimal operator.\n",
    "    w is a function defined on the state space.\n",
    "    \"\"\"\n",
    "    vals = []\n",
    "    for k in x:\n",
    "        kmax=F_nb(k,alpha,A)\n",
    "        h = lambda kp: U_numba(kmax + (1-delta) * k - kp,sigma) + beta * w(kp)\n",
    "        vals.append(maximum(h, 0, kmax))\n",
    "    return LinInterp(grid, vals)"
   ]
  },
  {
   "cell_type": "code",
   "execution_count": 52,
   "metadata": {
    "slideshow": {
     "slide_type": "subslide"
    }
   },
   "outputs": [],
   "source": [
    "def policy(x,w):\n",
    "    \"\"\"\n",
    "    For each function w, policy(w) returns the function that maximizes the \n",
    "    RHS of the Bellman operator.\n",
    "    Replace w for the Value function to get optimal policy.\n",
    "    The approximate optimal policy operator w-greedy (See Stachurski (2009)). \n",
    "    Parameters: w is a LinInterp object (i.e., a \n",
    "    callable object which acts pointwise on arrays).\n",
    "    Returns: An instance of LinInterp that captures the optimal policy.\n",
    "    \"\"\"\n",
    "    vals = []\n",
    "    for k in x:\n",
    "        kmax=F_nb(k,alpha,A)\n",
    "        h = lambda kp: U_numba(kmax + (1-delta) * k - kp, sigma) + beta * w(kp)\n",
    "        vals.append(maximizer(h, 0, kmax))\n",
    "    return LinInterp(grid, vals)"
   ]
  },
  {
   "cell_type": "code",
   "execution_count": 53,
   "metadata": {
    "slideshow": {
     "slide_type": "subslide"
    }
   },
   "outputs": [],
   "source": [
    "def solve():\n",
    "    count=0\n",
    "    V0=LinInterp(grid,U(grid,sigma))\n",
    "    while count<maxiter:\n",
    "        V1 = bellman(grid,V0)\n",
    "        err = np.max(np.abs(np.array(V1(grid))-np.array(V0(grid))))\n",
    "        V0 = V1\n",
    "        count += 1\n",
    "        if err<tol:\n",
    "            print(count)\n",
    "            break\n",
    "    return V0"
   ]
  },
  {
   "cell_type": "code",
   "execution_count": 54,
   "metadata": {
    "slideshow": {
     "slide_type": "subslide"
    }
   },
   "outputs": [],
   "source": [
    "V0 = bellman(grid, V0)\n",
    "C0 = policy(grid, V0)"
   ]
  },
  {
   "cell_type": "code",
   "execution_count": 55,
   "metadata": {
    "slideshow": {
     "slide_type": "subslide"
    }
   },
   "outputs": [
    {
     "name": "stdout",
     "output_type": "stream",
     "text": [
      "182 ms ± 7.02 ms per loop (mean ± std. dev. of 7 runs, 1 loop each)\n",
      "193 ms ± 9.49 ms per loop (mean ± std. dev. of 7 runs, 10 loops each)\n",
      "138\n",
      "138\n",
      "138\n",
      "138\n",
      "138\n",
      "138\n",
      "138\n",
      "138\n",
      "22.1 s ± 267 ms per loop (mean ± std. dev. of 7 runs, 1 loop each)\n"
     ]
    }
   ],
   "source": [
    "%timeit bellman(grid, V0)\n",
    "%timeit policy(grid ,V0)\n",
    "%timeit solve()"
   ]
  },
  {
   "cell_type": "code",
   "execution_count": 56,
   "metadata": {
    "slideshow": {
     "slide_type": "subslide"
    }
   },
   "outputs": [
    {
     "name": "stderr",
     "output_type": "stream",
     "text": [
      "<ipython-input-56-b9b01bd2fa01>:4: NumbaWarning: \n",
      "Compilation is falling back to object mode WITH looplifting enabled because Function \"bellmannb\" failed type inference due to: Untyped global name 'LinInterp': cannot determine Numba type of <class 'type'>\n",
      "\n",
      "File \"<ipython-input-56-b9b01bd2fa01>\", line 12:\n",
      "def bellmannb(x,w0):\n",
      "    <source elided>\n",
      "    \"\"\"\n",
      "    w = LinInterp(x,w0)\n",
      "    ^\n",
      "\n",
      "  @nb.jit('f8[:](f8[:], f8[:])')\n",
      "<ipython-input-56-b9b01bd2fa01>:4: NumbaWarning: \n",
      "Compilation is falling back to object mode WITHOUT looplifting enabled because Function \"bellmannb\" failed type inference due to: Untyped global name 'LinInterp': cannot determine Numba type of <class 'type'>\n",
      "\n",
      "File \"<ipython-input-56-b9b01bd2fa01>\", line 12:\n",
      "def bellmannb(x,w0):\n",
      "    <source elided>\n",
      "    \"\"\"\n",
      "    w = LinInterp(x,w0)\n",
      "    ^\n",
      "\n",
      "  @nb.jit('f8[:](f8[:], f8[:])')\n",
      "/Users/ozak/anaconda3/envs/GeoPython36env/lib/python3.6/site-packages/numba/compiler.py:742: NumbaWarning: Function \"bellmannb\" was compiled in object mode without forceobj=True, but has lifted loops.\n",
      "\n",
      "File \"<ipython-input-56-b9b01bd2fa01>\", line 5:\n",
      "@nb.jit('f8[:](f8[:], f8[:])')\n",
      "def bellmannb(x,w0):\n",
      "^\n",
      "\n",
      "  self.func_ir.loc))\n",
      "/Users/ozak/anaconda3/envs/GeoPython36env/lib/python3.6/site-packages/numba/compiler.py:751: NumbaDeprecationWarning: \n",
      "Fall-back from the nopython compilation path to the object mode compilation path has been detected, this is deprecated behaviour.\n",
      "\n",
      "For more information visit http://numba.pydata.org/numba-doc/latest/reference/deprecation.html#deprecation-of-object-mode-fall-back-behaviour-when-using-jit\n",
      "\n",
      "File \"<ipython-input-56-b9b01bd2fa01>\", line 5:\n",
      "@nb.jit('f8[:](f8[:], f8[:])')\n",
      "def bellmannb(x,w0):\n",
      "^\n",
      "\n",
      "  warnings.warn(errors.NumbaDeprecationWarning(msg, self.func_ir.loc))\n",
      "<ipython-input-56-b9b01bd2fa01>:19: NumbaWarning: \n",
      "Compilation is falling back to object mode WITH looplifting enabled because Function \"policynb\" failed type inference due to: Untyped global name 'LinInterp': cannot determine Numba type of <class 'type'>\n",
      "\n",
      "File \"<ipython-input-56-b9b01bd2fa01>\", line 27:\n",
      "def policynb(x,w0):\n",
      "    <source elided>\n",
      "    \"\"\"\n",
      "    w = LinInterp(x,w0)\n",
      "    ^\n",
      "\n",
      "  @nb.jit('f8[:](f8[:],f8[:])')\n",
      "<ipython-input-56-b9b01bd2fa01>:19: NumbaWarning: \n",
      "Compilation is falling back to object mode WITHOUT looplifting enabled because Function \"policynb\" failed type inference due to: Untyped global name 'LinInterp': cannot determine Numba type of <class 'type'>\n",
      "\n",
      "File \"<ipython-input-56-b9b01bd2fa01>\", line 27:\n",
      "def policynb(x,w0):\n",
      "    <source elided>\n",
      "    \"\"\"\n",
      "    w = LinInterp(x,w0)\n",
      "    ^\n",
      "\n",
      "  @nb.jit('f8[:](f8[:],f8[:])')\n",
      "/Users/ozak/anaconda3/envs/GeoPython36env/lib/python3.6/site-packages/numba/compiler.py:742: NumbaWarning: Function \"policynb\" was compiled in object mode without forceobj=True, but has lifted loops.\n",
      "\n",
      "File \"<ipython-input-56-b9b01bd2fa01>\", line 20:\n",
      "@nb.jit('f8[:](f8[:],f8[:])')\n",
      "def policynb(x,w0):\n",
      "^\n",
      "\n",
      "  self.func_ir.loc))\n",
      "/Users/ozak/anaconda3/envs/GeoPython36env/lib/python3.6/site-packages/numba/compiler.py:751: NumbaDeprecationWarning: \n",
      "Fall-back from the nopython compilation path to the object mode compilation path has been detected, this is deprecated behaviour.\n",
      "\n",
      "For more information visit http://numba.pydata.org/numba-doc/latest/reference/deprecation.html#deprecation-of-object-mode-fall-back-behaviour-when-using-jit\n",
      "\n",
      "File \"<ipython-input-56-b9b01bd2fa01>\", line 20:\n",
      "@nb.jit('f8[:](f8[:],f8[:])')\n",
      "def policynb(x,w0):\n",
      "^\n",
      "\n",
      "  warnings.warn(errors.NumbaDeprecationWarning(msg, self.func_ir.loc))\n",
      "<ipython-input-56-b9b01bd2fa01>:43: NumbaWarning: \n",
      "Compilation is falling back to object mode WITH looplifting enabled because Function \"solvenb\" failed type inference due to: Invalid use of type(CPUDispatcher(<function U at 0x1b7876d08>)) with parameters (readonly array(float64, 1d, C), Literal[int](1))\n",
      "Known signatures:\n",
      " * (array(float64, 1d, A), float64) -> array(float64, 1d, A)\n",
      " * parameterized\n",
      "[1] During: resolving callee type: type(CPUDispatcher(<function U at 0x1b7876d08>))\n",
      "[2] During: typing of call at <ipython-input-56-b9b01bd2fa01> (46)\n",
      "\n",
      "\n",
      "File \"<ipython-input-56-b9b01bd2fa01>\", line 46:\n",
      "def solvenb():\n",
      "    <source elided>\n",
      "    count=0.0\n",
      "    V0=U(grid,sigma)\n",
      "    ^\n",
      "\n",
      "  @nb.jit('f8[:]()')\n",
      "<ipython-input-56-b9b01bd2fa01>:43: NumbaWarning: \n",
      "Compilation is falling back to object mode WITHOUT looplifting enabled because Function \"solvenb\" failed type inference due to: cannot determine Numba type of <class 'numba.dispatcher.LiftedLoop'>\n",
      "\n",
      "File \"<ipython-input-56-b9b01bd2fa01>\", line 46:\n",
      "def solvenb():\n",
      "    <source elided>\n",
      "    count=0.0\n",
      "    V0=U(grid,sigma)\n",
      "    ^\n",
      "\n",
      "  @nb.jit('f8[:]()')\n",
      "/Users/ozak/anaconda3/envs/GeoPython36env/lib/python3.6/site-packages/numba/compiler.py:742: NumbaWarning: Function \"solvenb\" was compiled in object mode without forceobj=True, but has lifted loops.\n",
      "\n",
      "File \"<ipython-input-56-b9b01bd2fa01>\", line 44:\n",
      "@nb.jit('f8[:]()')\n",
      "def solvenb():\n",
      "^\n",
      "\n",
      "  self.func_ir.loc))\n",
      "/Users/ozak/anaconda3/envs/GeoPython36env/lib/python3.6/site-packages/numba/compiler.py:751: NumbaDeprecationWarning: \n",
      "Fall-back from the nopython compilation path to the object mode compilation path has been detected, this is deprecated behaviour.\n",
      "\n",
      "For more information visit http://numba.pydata.org/numba-doc/latest/reference/deprecation.html#deprecation-of-object-mode-fall-back-behaviour-when-using-jit\n",
      "\n",
      "File \"<ipython-input-56-b9b01bd2fa01>\", line 44:\n",
      "@nb.jit('f8[:]()')\n",
      "def solvenb():\n",
      "^\n",
      "\n",
      "  warnings.warn(errors.NumbaDeprecationWarning(msg, self.func_ir.loc))\n"
     ]
    }
   ],
   "source": [
    "def Utrf(kp,kmax,k,sigma,w):\n",
    "    return -U_numba(kmax + (1-delta) * k - kp,sigma)-beta*w(kp)\n",
    "\n",
    "@nb.jit('f8[:](f8[:], f8[:])')\n",
    "def bellmannb(x,w0):\n",
    "    \"\"\"The approximate Bellman operator.\n",
    "    Parameters: w is a LinInterp object (i.e., a \n",
    "    callable object which acts pointwise on arrays).\n",
    "    Returns: An instance of LinInterp that represents the optimal operator.\n",
    "    w is a function defined on the state space.\n",
    "    \"\"\"\n",
    "    w = LinInterp(x,w0)\n",
    "    vals = np.array([])\n",
    "    for k in x:\n",
    "        kmax = F_nb(k,alpha,A)\n",
    "        vals = np.append(vals, -Utrf(fminbound(Utrf, 0, kmax, args=[kmax,k,sigma,w]),kmax,k,sigma,w))\n",
    "    return vals\n",
    "\n",
    "@nb.jit('f8[:](f8[:],f8[:])')\n",
    "def policynb(x,w0):\n",
    "    \"\"\"The approximate Bellman operator.\n",
    "    Parameters: w is a LinInterp object (i.e., a \n",
    "    callable object which acts pointwise on arrays).\n",
    "    Returns: An instance of LinInterp that represents the optimal operator.\n",
    "    w is a function defined on the state space.\n",
    "    \"\"\"\n",
    "    w = LinInterp(x,w0)\n",
    "    vals = np.array([])\n",
    "    for k in x:\n",
    "        kmax = F_nb(k,alpha,A)\n",
    "        vals = np.append(vals,fminbound(Utrf, 0, kmax, args=[kmax,k,sigma,w]))\n",
    "    return vals\n",
    "\n",
    "@nb.jit('f8(f8[:],f8[:])')\n",
    "def errnb(V0,V1):\n",
    "    maxi=0.0\n",
    "    for i in range(V0.shape[0]):\n",
    "        m=abs(V1[i]-V0[i])\n",
    "        if m>=maxi:\n",
    "            maxi=m\n",
    "    return maxi\n",
    "\n",
    "@nb.jit('f8[:]()')\n",
    "def solvenb():\n",
    "    count=0.0\n",
    "    V0=U(grid,sigma)\n",
    "    while count<maxiter:\n",
    "        V1=bellmannb(grid,V0)\n",
    "        err=errnb(V1,V0)\n",
    "        V0=V1\n",
    "        count+=1\n",
    "        if err<tol:\n",
    "            print(count)\n",
    "            break\n",
    "    return V0"
   ]
  },
  {
   "cell_type": "code",
   "execution_count": 57,
   "metadata": {
    "slideshow": {
     "slide_type": "subslide"
    }
   },
   "outputs": [
    {
     "name": "stderr",
     "output_type": "stream",
     "text": [
      "<ipython-input-56-b9b01bd2fa01>:4: NumbaWarning: \n",
      "Compilation is falling back to object mode WITHOUT looplifting enabled because Function \"bellmannb\" failed type inference due to: Untyped global name 'Utrf': cannot determine Numba type of <class 'function'>\n",
      "\n",
      "File \"<ipython-input-56-b9b01bd2fa01>\", line 16:\n",
      "def bellmannb(x,w0):\n",
      "    <source elided>\n",
      "        kmax = F_nb(k,alpha,A)\n",
      "        vals = np.append(vals, -Utrf(fminbound(Utrf, 0, kmax, args=[kmax,k,sigma,w]),kmax,k,sigma,w))\n",
      "        ^\n",
      "\n",
      "  @nb.jit('f8[:](f8[:], f8[:])')\n",
      "/Users/ozak/anaconda3/envs/GeoPython36env/lib/python3.6/site-packages/numba/compiler.py:742: NumbaWarning: Function \"bellmannb\" was compiled in object mode without forceobj=True.\n",
      "\n",
      "File \"<ipython-input-56-b9b01bd2fa01>\", line 14:\n",
      "def bellmannb(x,w0):\n",
      "    <source elided>\n",
      "    vals = np.array([])\n",
      "    for k in x:\n",
      "    ^\n",
      "\n",
      "  self.func_ir.loc))\n",
      "/Users/ozak/anaconda3/envs/GeoPython36env/lib/python3.6/site-packages/numba/compiler.py:751: NumbaDeprecationWarning: \n",
      "Fall-back from the nopython compilation path to the object mode compilation path has been detected, this is deprecated behaviour.\n",
      "\n",
      "For more information visit http://numba.pydata.org/numba-doc/latest/reference/deprecation.html#deprecation-of-object-mode-fall-back-behaviour-when-using-jit\n",
      "\n",
      "File \"<ipython-input-56-b9b01bd2fa01>\", line 14:\n",
      "def bellmannb(x,w0):\n",
      "    <source elided>\n",
      "    vals = np.array([])\n",
      "    for k in x:\n",
      "    ^\n",
      "\n",
      "  warnings.warn(errors.NumbaDeprecationWarning(msg, self.func_ir.loc))\n",
      "<ipython-input-56-b9b01bd2fa01>:19: NumbaWarning: \n",
      "Compilation is falling back to object mode WITHOUT looplifting enabled because Function \"policynb\" failed type inference due to: Untyped global name 'fminbound': cannot determine Numba type of <class 'function'>\n",
      "\n",
      "File \"<ipython-input-56-b9b01bd2fa01>\", line 31:\n",
      "def policynb(x,w0):\n",
      "    <source elided>\n",
      "        kmax = F_nb(k,alpha,A)\n",
      "        vals = np.append(vals,fminbound(Utrf, 0, kmax, args=[kmax,k,sigma,w]))\n",
      "        ^\n",
      "\n",
      "  @nb.jit('f8[:](f8[:],f8[:])')\n",
      "/Users/ozak/anaconda3/envs/GeoPython36env/lib/python3.6/site-packages/numba/compiler.py:742: NumbaWarning: Function \"policynb\" was compiled in object mode without forceobj=True.\n",
      "\n",
      "File \"<ipython-input-56-b9b01bd2fa01>\", line 29:\n",
      "def policynb(x,w0):\n",
      "    <source elided>\n",
      "    vals = np.array([])\n",
      "    for k in x:\n",
      "    ^\n",
      "\n",
      "  self.func_ir.loc))\n",
      "/Users/ozak/anaconda3/envs/GeoPython36env/lib/python3.6/site-packages/numba/compiler.py:751: NumbaDeprecationWarning: \n",
      "Fall-back from the nopython compilation path to the object mode compilation path has been detected, this is deprecated behaviour.\n",
      "\n",
      "For more information visit http://numba.pydata.org/numba-doc/latest/reference/deprecation.html#deprecation-of-object-mode-fall-back-behaviour-when-using-jit\n",
      "\n",
      "File \"<ipython-input-56-b9b01bd2fa01>\", line 29:\n",
      "def policynb(x,w0):\n",
      "    <source elided>\n",
      "    vals = np.array([])\n",
      "    for k in x:\n",
      "    ^\n",
      "\n",
      "  warnings.warn(errors.NumbaDeprecationWarning(msg, self.func_ir.loc))\n"
     ]
    }
   ],
   "source": [
    "U0 = U(grid, sigma)\n",
    "\n",
    "U0 = bellmannb(grid, U0)\n",
    "\n",
    "c0 = policynb(grid, U0)"
   ]
  },
  {
   "cell_type": "code",
   "execution_count": 58,
   "metadata": {
    "slideshow": {
     "slide_type": "subslide"
    }
   },
   "outputs": [
    {
     "name": "stdout",
     "output_type": "stream",
     "text": [
      "130 ms ± 2.09 ms per loop (mean ± std. dev. of 7 runs, 10 loops each)\n",
      "127 ms ± 1.45 ms per loop (mean ± std. dev. of 7 runs, 10 loops each)\n"
     ]
    },
    {
     "name": "stderr",
     "output_type": "stream",
     "text": [
      "<ipython-input-56-b9b01bd2fa01>:43: NumbaWarning: \n",
      "Compilation is falling back to object mode WITHOUT looplifting enabled because Function \"solvenb\" failed type inference due to: Invalid use of type(CPUDispatcher(<function bellmannb at 0x1b7a36950>)) with parameters (readonly array(float64, 1d, C), array(float64, 1d, C))\n",
      " * parameterized\n",
      "[1] During: resolving callee type: type(CPUDispatcher(<function bellmannb at 0x1b7a36950>))\n",
      "[2] During: typing of call at <ipython-input-56-b9b01bd2fa01> (48)\n",
      "\n",
      "\n",
      "File \"<ipython-input-56-b9b01bd2fa01>\", line 48:\n",
      "def solvenb():\n",
      "    <source elided>\n",
      "    while count<maxiter:\n",
      "        V1=bellmannb(grid,V0)\n",
      "        ^\n",
      "\n",
      "  @nb.jit('f8[:]()')\n",
      "/Users/ozak/anaconda3/envs/GeoPython36env/lib/python3.6/site-packages/numba/compiler.py:742: NumbaWarning: Function \"solvenb\" was compiled in object mode without forceobj=True.\n",
      "\n",
      "File \"<ipython-input-56-b9b01bd2fa01>\", line 46:\n",
      "def solvenb():\n",
      "    <source elided>\n",
      "    count=0.0\n",
      "    V0=U(grid,sigma)\n",
      "    ^\n",
      "\n",
      "  self.func_ir.loc))\n",
      "/Users/ozak/anaconda3/envs/GeoPython36env/lib/python3.6/site-packages/numba/compiler.py:751: NumbaDeprecationWarning: \n",
      "Fall-back from the nopython compilation path to the object mode compilation path has been detected, this is deprecated behaviour.\n",
      "\n",
      "For more information visit http://numba.pydata.org/numba-doc/latest/reference/deprecation.html#deprecation-of-object-mode-fall-back-behaviour-when-using-jit\n",
      "\n",
      "File \"<ipython-input-56-b9b01bd2fa01>\", line 46:\n",
      "def solvenb():\n",
      "    <source elided>\n",
      "    count=0.0\n",
      "    V0=U(grid,sigma)\n",
      "    ^\n",
      "\n",
      "  warnings.warn(errors.NumbaDeprecationWarning(msg, self.func_ir.loc))\n"
     ]
    },
    {
     "name": "stdout",
     "output_type": "stream",
     "text": [
      "138.0\n",
      "138.0\n",
      "138.0\n",
      "138.0\n",
      "138.0\n",
      "138.0\n",
      "138.0\n",
      "138.0\n",
      "16.6 s ± 688 ms per loop (mean ± std. dev. of 7 runs, 1 loop each)\n"
     ]
    }
   ],
   "source": [
    "%timeit bellmannb(grid, U0)\n",
    "%timeit policynb(grid, U0)\n",
    "%timeit solvenb()"
   ]
  },
  {
   "cell_type": "code",
   "execution_count": 59,
   "metadata": {
    "slideshow": {
     "slide_type": "subslide"
    }
   },
   "outputs": [
    {
     "data": {
      "text/plain": [
       "<matplotlib.legend.Legend at 0x1b7fac240>"
      ]
     },
     "execution_count": 59,
     "metadata": {},
     "output_type": "execute_result"
    },
    {
     "data": {
      "image/png": "[encoded data removed]",
      "text/plain": [
       "<Figure size 432x288 with 1 Axes>"
      ]
     },
     "metadata": {
      "needs_background": "light"
     },
     "output_type": "display_data"
    }
   ],
   "source": [
    "plt.plot(grid, V0(grid), label='V0')\n",
    "plt.plot(grid, U0)\n",
    "plt.legend()"
   ]
  },
  {
   "cell_type": "code",
   "execution_count": 60,
   "metadata": {
    "slideshow": {
     "slide_type": "subslide"
    }
   },
   "outputs": [
    {
     "data": {
      "text/plain": [
       "<matplotlib.legend.Legend at 0x1b7ebb438>"
      ]
     },
     "execution_count": 60,
     "metadata": {},
     "output_type": "execute_result"
    },
    {
     "data": {
      "image/png": "[encoded data removed]",
      "text/plain": [
       "<Figure size 432x288 with 1 Axes>"
      ]
     },
     "metadata": {
      "needs_background": "light"
     },
     "output_type": "display_data"
    }
   ],
   "source": [
    "plt.plot(grid, C0(grid), label='C0')\n",
    "plt.plot(grid, c0)\n",
    "plt.legend()"
   ]
  },
  {
   "cell_type": "code",
   "execution_count": 61,
   "metadata": {
    "slideshow": {
     "slide_type": "subslide"
    }
   },
   "outputs": [
    {
     "name": "stderr",
     "output_type": "stream",
     "text": [
      "<ipython-input-61-dfc6052a5170>:10: NumbaWarning: \n",
      "Compilation is falling back to object mode WITH looplifting enabled because Function \"solvenb\" failed type inference due to: Invalid use of type(CPUDispatcher(<function U at 0x1b7876d08>)) with parameters (readonly array(float64, 1d, C), Literal[int](1))\n",
      "Known signatures:\n",
      " * (array(float64, 1d, A), float64) -> array(float64, 1d, A)\n",
      " * parameterized\n",
      "[1] During: resolving callee type: type(CPUDispatcher(<function U at 0x1b7876d08>))\n",
      "[2] During: typing of call at <ipython-input-61-dfc6052a5170> (13)\n",
      "\n",
      "\n",
      "File \"<ipython-input-61-dfc6052a5170>\", line 13:\n",
      "def solvenb():\n",
      "    <source elided>\n",
      "    count=0.0\n",
      "    V0 = U(grid,sigma)\n",
      "    ^\n",
      "\n",
      "  @nb.jit('f8[:]()')\n",
      "<ipython-input-61-dfc6052a5170>:10: NumbaWarning: \n",
      "Compilation is falling back to object mode WITHOUT looplifting enabled because Function \"solvenb\" failed type inference due to: cannot determine Numba type of <class 'numba.dispatcher.LiftedLoop'>\n",
      "\n",
      "File \"<ipython-input-61-dfc6052a5170>\", line 13:\n",
      "def solvenb():\n",
      "    <source elided>\n",
      "    count=0.0\n",
      "    V0 = U(grid,sigma)\n",
      "    ^\n",
      "\n",
      "  @nb.jit('f8[:]()')\n",
      "/Users/ozak/anaconda3/envs/GeoPython36env/lib/python3.6/site-packages/numba/compiler.py:742: NumbaWarning: Function \"solvenb\" was compiled in object mode without forceobj=True, but has lifted loops.\n",
      "\n",
      "File \"<ipython-input-61-dfc6052a5170>\", line 11:\n",
      "@nb.jit('f8[:]()')\n",
      "def solvenb():\n",
      "^\n",
      "\n",
      "  self.func_ir.loc))\n",
      "/Users/ozak/anaconda3/envs/GeoPython36env/lib/python3.6/site-packages/numba/compiler.py:751: NumbaDeprecationWarning: \n",
      "Fall-back from the nopython compilation path to the object mode compilation path has been detected, this is deprecated behaviour.\n",
      "\n",
      "For more information visit http://numba.pydata.org/numba-doc/latest/reference/deprecation.html#deprecation-of-object-mode-fall-back-behaviour-when-using-jit\n",
      "\n",
      "File \"<ipython-input-61-dfc6052a5170>\", line 11:\n",
      "@nb.jit('f8[:]()')\n",
      "def solvenb():\n",
      "^\n",
      "\n",
      "  warnings.warn(errors.NumbaDeprecationWarning(msg, self.func_ir.loc))\n",
      "<ipython-input-61-dfc6052a5170>:10: NumbaWarning: \n",
      "Compilation is falling back to object mode WITHOUT looplifting enabled because Function \"solvenb\" failed type inference due to: Invalid use of type(CPUDispatcher(<function bellmannb at 0x1b7a36950>)) with parameters (readonly array(float64, 1d, C), array(float64, 1d, C))\n",
      " * parameterized\n",
      "[1] During: resolving callee type: type(CPUDispatcher(<function bellmannb at 0x1b7a36950>))\n",
      "[2] During: typing of call at <ipython-input-61-dfc6052a5170> (15)\n",
      "\n",
      "\n",
      "File \"<ipython-input-61-dfc6052a5170>\", line 15:\n",
      "def solvenb():\n",
      "    <source elided>\n",
      "    while count<maxiter:\n",
      "        V1 = bellmannb(grid, V0)\n",
      "        ^\n",
      "\n",
      "  @nb.jit('f8[:]()')\n",
      "/Users/ozak/anaconda3/envs/GeoPython36env/lib/python3.6/site-packages/numba/compiler.py:742: NumbaWarning: Function \"solvenb\" was compiled in object mode without forceobj=True.\n",
      "\n",
      "File \"<ipython-input-61-dfc6052a5170>\", line 13:\n",
      "def solvenb():\n",
      "    <source elided>\n",
      "    count=0.0\n",
      "    V0 = U(grid,sigma)\n",
      "    ^\n",
      "\n",
      "  self.func_ir.loc))\n",
      "/Users/ozak/anaconda3/envs/GeoPython36env/lib/python3.6/site-packages/numba/compiler.py:751: NumbaDeprecationWarning: \n",
      "Fall-back from the nopython compilation path to the object mode compilation path has been detected, this is deprecated behaviour.\n",
      "\n",
      "For more information visit http://numba.pydata.org/numba-doc/latest/reference/deprecation.html#deprecation-of-object-mode-fall-back-behaviour-when-using-jit\n",
      "\n",
      "File \"<ipython-input-61-dfc6052a5170>\", line 13:\n",
      "def solvenb():\n",
      "    <source elided>\n",
      "    count=0.0\n",
      "    V0 = U(grid,sigma)\n",
      "    ^\n",
      "\n",
      "  warnings.warn(errors.NumbaDeprecationWarning(msg, self.func_ir.loc))\n"
     ]
    },
    {
     "name": "stdout",
     "output_type": "stream",
     "text": [
      "138.0\n",
      "138.0\n",
      "138.0\n",
      "138.0\n",
      "138.0\n",
      "138.0\n",
      "138.0\n",
      "138.0\n",
      "16.2 s ± 72.9 ms per loop (mean ± std. dev. of 7 runs, 1 loop each)\n"
     ]
    }
   ],
   "source": [
    "@nb.jit('f8(f8[:], f8[:])')\n",
    "def errnb(V0, V1):\n",
    "    maxi=0.0\n",
    "    for i in range(V0.shape[0]):\n",
    "        m=abs(V1[i]-V0[i])\n",
    "        if m>=maxi:\n",
    "            maxi=m\n",
    "    return maxi\n",
    "\n",
    "@nb.jit('f8[:]()')\n",
    "def solvenb():\n",
    "    count=0.0\n",
    "    V0 = U(grid,sigma)\n",
    "    while count<maxiter:\n",
    "        V1 = bellmannb(grid, V0)\n",
    "        err = errnb(V1, V0)\n",
    "        V0 = V1\n",
    "        count += 1\n",
    "        if err<tol:\n",
    "            print(count)\n",
    "            break\n",
    "    return V0\n",
    "%timeit solvenb()"
   ]
  }
 ],
 "metadata": {
  "celltoolbar": "Slideshow",
  "kernelspec": {
   "display_name": "Python 3",
   "language": "python",
   "name": "python3"
  },
  "language_info": {
   "codemirror_mode": {
    "name": "ipython",
    "version": 3
   },
   "file_extension": ".py",
   "mimetype": "text/x-python",
   "name": "python",
   "nbconvert_exporter": "python",
   "pygments_lexer": "ipython3",
   "version": "3.6.7"
  }
 },
 "nbformat": 4,
 "nbformat_minor": 1
}
